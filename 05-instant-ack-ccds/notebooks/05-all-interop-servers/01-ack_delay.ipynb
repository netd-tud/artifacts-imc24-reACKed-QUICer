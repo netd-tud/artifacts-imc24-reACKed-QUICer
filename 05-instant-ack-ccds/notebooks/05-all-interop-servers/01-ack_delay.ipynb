{
 "cells": [
  {
   "cell_type": "code",
   "execution_count": 1,
   "id": "bc338624-2b3a-4646-9ba4-2de71fc21ed7",
   "metadata": {
    "execution": {
     "iopub.execute_input": "2024-09-10T15:53:53.226476Z",
     "iopub.status.busy": "2024-09-10T15:53:53.226289Z",
     "iopub.status.idle": "2024-09-10T15:53:54.281205Z",
     "shell.execute_reply": "2024-09-10T15:53:54.280623Z",
     "shell.execute_reply.started": "2024-09-10T15:53:53.226455Z"
    }
   },
   "outputs": [
    {
     "name": "stderr",
     "output_type": "stream",
     "text": [
      "\u001b[32m2024-09-10 17:53:53.272\u001b[0m | \u001b[1mINFO    \u001b[0m | \u001b[36minstant_ack.config\u001b[0m:\u001b[36m<module>\u001b[0m:\u001b[36m11\u001b[0m - \u001b[1mPROJ_ROOT path is: /data/instant-ack\u001b[0m\n"
     ]
    }
   ],
   "source": [
    "from instant_ack import *\n",
    "\n",
    "%load_ext autoreload\n",
    "%autoreload 2"
   ]
  },
  {
   "cell_type": "markdown",
   "id": "4cbc5fa2-732b-43fa-b20d-d56b99102731",
   "metadata": {},
   "source": [
    "# Load data"
   ]
  },
  {
   "cell_type": "code",
   "execution_count": 2,
   "id": "1827a675-3128-4113-b38c-2cf49dee2cd6",
   "metadata": {
    "execution": {
     "iopub.execute_input": "2024-09-10T15:53:54.282333Z",
     "iopub.status.busy": "2024-09-10T15:53:54.281940Z",
     "iopub.status.idle": "2024-09-10T15:53:54.425970Z",
     "shell.execute_reply": "2024-09-10T15:53:54.424902Z",
     "shell.execute_reply.started": "2024-09-10T15:53:54.282315Z"
    }
   },
   "outputs": [],
   "source": [
    "unique = [\n",
    "    \"server\",\n",
    "    \"packet_type\",\n",
    "    \"measurement_ts\",\n",
    "]\n",
    "\n",
    "df_responses = (\n",
    "    cv.load_data(\"all-interop-servers\")\n",
    "    .filter(\n",
    "        # Server responses\n",
    "        pl.col(\"udp.srcport\") == 443,\n",
    "        pl.col(\"quic.ack.ack_delay\").is_not_null(),\n",
    "        # Initial or Handshake packet\n",
    "        pl.col(\"quic.long.packet_type\").str.contains(\"0|2\"),\n",
    "    )\n",
    "    .with_columns(\n",
    "        # Extract available ack_delay exponenets\n",
    "        # Before the handshake is finished, the default should be used\n",
    "        pl.col([\"quic.ack.ack_delay\", \"tls.quic.parameter.ack_delay_exponent\"]).cast(\n",
    "            pl.UInt32\n",
    "        ),\n",
    "        packet_type=pl.when(pl.col(\"quic.long.packet_type\").str.contains(\"0\"))\n",
    "        .then(pl.lit(\"Initial\"))\n",
    "        .otherwise(pl.lit(\"Handshake\")),\n",
    "    )\n",
    "    .with_columns(\n",
    "        pl.col(\"tls.quic.parameter.ack_delay_exponent\").forward_fill().backward_fill(),\n",
    "    )\n",
    "    .with_columns(\n",
    "        ack_delay_ms=pl.when(\n",
    "            pl.col(\"tls.quic.parameter.ack_delay_exponent\").is_not_null()\n",
    "        )\n",
    "        .then(\n",
    "            pl.col(\n",
    "                [\n",
    "                    \"quic.ack.ack_delay\",\n",
    "                ]\n",
    "            )\n",
    "            * 2 ** pl.col(\"tls.quic.parameter.ack_delay_exponent\")\n",
    "        )\n",
    "        .otherwise(\n",
    "            # This will always be the case for the first ACK of a connection\n",
    "            # since he server handshake packet with the parameters is not yet received\n",
    "            pl.col(\"quic.ack.ack_delay\")\n",
    "            * 2**3\n",
    "        )\n",
    "        / 1000  # raw unit is microseconds,\n",
    "    )\n",
    "    .collect()\n",
    "    .group_by(unique)\n",
    "    .first()\n",
    ")\n",
    "# Grouping by packet_type yield the first handshake packet received"
   ]
  },
  {
   "cell_type": "code",
   "execution_count": 3,
   "id": "8363dc1f-3d29-4d10-80c2-b632ae0ca845",
   "metadata": {
    "execution": {
     "iopub.execute_input": "2024-09-10T15:53:54.427907Z",
     "iopub.status.busy": "2024-09-10T15:53:54.426895Z",
     "iopub.status.idle": "2024-09-10T15:53:54.493706Z",
     "shell.execute_reply": "2024-09-10T15:53:54.492615Z",
     "shell.execute_reply.started": "2024-09-10T15:53:54.427887Z"
    }
   },
   "outputs": [],
   "source": [
    "df_requests = (\n",
    "    cv.load_data(\"all-interop-servers\")\n",
    "    .filter(\n",
    "        pl.col(\"udp.srcport\") != 443,\n",
    "    )\n",
    "    .with_columns(\n",
    "        packet_type=pl.when(pl.col(\"quic.long.packet_type\").str.contains(\"0\"))\n",
    "        .then(pl.lit(\"Initial\"))\n",
    "        .otherwise(pl.lit(\"Handshake\"))\n",
    "    )\n",
    "    .filter(pl.col(\"ts\") == pl.col(\"ts\").min().over(unique))\n",
    "    .collect()\n",
    ")\n",
    "df_responses = df_responses.join(\n",
    "    df_requests.select(\"server\", \"ts\", \"measurement_ts\", \"packet_type\"),\n",
    "    how=\"left\",\n",
    "    on=[\"server\", \"measurement_ts\", \"packet_type\"],\n",
    "    validate=\"1:1\",\n",
    "    suffix=\"_sent\",\n",
    ").with_columns(rtt=(pl.col(\"ts\") - pl.col(\"ts_sent\")).dt.total_microseconds() / 1000)"
   ]
  },
  {
   "cell_type": "markdown",
   "id": "abb75cab-6308-4f43-aa07-05bea1e552a8",
   "metadata": {},
   "source": [
    "## Limit to required columns"
   ]
  },
  {
   "cell_type": "code",
   "execution_count": 46,
   "id": "e1d99984-9c95-4de1-a89d-9b3af7d4a62e",
   "metadata": {
    "execution": {
     "iopub.execute_input": "2024-09-10T16:08:34.151908Z",
     "iopub.status.busy": "2024-09-10T16:08:34.151382Z",
     "iopub.status.idle": "2024-09-10T16:08:34.177245Z",
     "shell.execute_reply": "2024-09-10T16:08:34.176058Z",
     "shell.execute_reply.started": "2024-09-10T16:08:34.151887Z"
    }
   },
   "outputs": [
    {
     "data": {
      "text/html": [
       "<div><style>\n",
       ".dataframe > thead > tr,\n",
       ".dataframe > tbody > tr {\n",
       "  text-align: right;\n",
       "  white-space: pre-wrap;\n",
       "}\n",
       "</style>\n",
       "<small>shape: (5, 9)</small><table border=\"1\" class=\"dataframe\"><thead><tr><th>server</th><th>measurement_ts</th><th>quic.ack.ack_delay</th><th>tls.quic.parameter.ack_delay_exponent</th><th>ack_delay_ms</th><th>rtt</th><th>quic.ack.ack_range</th><th>quic.ack.first_ack_range</th><th>packet_type</th></tr><tr><td>str</td><td>str</td><td>u32</td><td>u32</td><td>f64</td><td>f64</td><td>str</td><td>str</td><td>str</td></tr></thead><tbody><tr><td>&quot;lsquic&quot;</td><td>&quot;1&quot;</td><td>148</td><td>3</td><td>1.184</td><td>38.775</td><td>null</td><td>&quot;0&quot;</td><td>&quot;Initial&quot;</td></tr><tr><td>&quot;nginx&quot;</td><td>&quot;2&quot;</td><td>0</td><td>3</td><td>0.0</td><td>39.267</td><td>null</td><td>&quot;0&quot;</td><td>&quot;Initial&quot;</td></tr><tr><td>&quot;quinn&quot;</td><td>&quot;3&quot;</td><td>51</td><td>3</td><td>0.408</td><td>37.818</td><td>null</td><td>&quot;0&quot;</td><td>&quot;Initial&quot;</td></tr><tr><td>&quot;aioquic&quot;</td><td>&quot;3&quot;</td><td>412</td><td>3</td><td>3.296</td><td>41.184</td><td>null</td><td>&quot;0&quot;</td><td>&quot;Initial&quot;</td></tr><tr><td>&quot;s2n-quic&quot;</td><td>&quot;2&quot;</td><td>1895</td><td>3</td><td>15.16</td><td>40.057</td><td>null</td><td>&quot;0&quot;</td><td>&quot;Initial&quot;</td></tr></tbody></table></div>"
      ],
      "text/plain": [
       "shape: (5, 9)\n",
       "┌──────────┬────────────┬────────────┬────────────┬───┬────────┬───────────┬───────────┬───────────┐\n",
       "│ server   ┆ measuremen ┆ quic.ack.a ┆ tls.quic.p ┆ … ┆ rtt    ┆ quic.ack. ┆ quic.ack. ┆ packet_ty │\n",
       "│ ---      ┆ t_ts       ┆ ck_delay   ┆ arameter.a ┆   ┆ ---    ┆ ack_range ┆ first_ack ┆ pe        │\n",
       "│ str      ┆ ---        ┆ ---        ┆ ck_delay_e ┆   ┆ f64    ┆ ---       ┆ _range    ┆ ---       │\n",
       "│          ┆ str        ┆ u32        ┆ …          ┆   ┆        ┆ str       ┆ ---       ┆ str       │\n",
       "│          ┆            ┆            ┆ ---        ┆   ┆        ┆           ┆ str       ┆           │\n",
       "│          ┆            ┆            ┆ u32        ┆   ┆        ┆           ┆           ┆           │\n",
       "╞══════════╪════════════╪════════════╪════════════╪═══╪════════╪═══════════╪═══════════╪═══════════╡\n",
       "│ lsquic   ┆ 1          ┆ 148        ┆ 3          ┆ … ┆ 38.775 ┆ null      ┆ 0         ┆ Initial   │\n",
       "│ nginx    ┆ 2          ┆ 0          ┆ 3          ┆ … ┆ 39.267 ┆ null      ┆ 0         ┆ Initial   │\n",
       "│ quinn    ┆ 3          ┆ 51         ┆ 3          ┆ … ┆ 37.818 ┆ null      ┆ 0         ┆ Initial   │\n",
       "│ aioquic  ┆ 3          ┆ 412        ┆ 3          ┆ … ┆ 41.184 ┆ null      ┆ 0         ┆ Initial   │\n",
       "│ s2n-quic ┆ 2          ┆ 1895       ┆ 3          ┆ … ┆ 40.057 ┆ null      ┆ 0         ┆ Initial   │\n",
       "└──────────┴────────────┴────────────┴────────────┴───┴────────┴───────────┴───────────┴───────────┘"
      ]
     },
     "execution_count": 46,
     "metadata": {},
     "output_type": "execute_result"
    }
   ],
   "source": [
    "data = df_responses.select(\n",
    "    \"server\",\n",
    "    \"measurement_ts\",\n",
    "    \"quic.ack.ack_delay\",\n",
    "    \"tls.quic.parameter.ack_delay_exponent\",\n",
    "    \"ack_delay_ms\",\n",
    "    \"rtt\",\n",
    "    \"quic.ack.ack_range\",\n",
    "    \"quic.ack.first_ack_range\",\n",
    "    \"packet_type\",\n",
    ").with_columns(\n",
    "    pl.col(\"measurement_ts\").replace(\n",
    "        {\n",
    "            \"2024-08-14T01:43\": \"1\",\n",
    "            \"2024-08-16T01:42\": \"2\",\n",
    "            \"2024-08-15T01:36\": \"3\",\n",
    "        }\n",
    "    )\n",
    ")\n",
    "data.head()"
   ]
  },
  {
   "cell_type": "code",
   "execution_count": 44,
   "id": "c7e55ab4-c594-4931-934a-01c19d257f33",
   "metadata": {
    "execution": {
     "iopub.execute_input": "2024-09-10T16:08:30.803553Z",
     "iopub.status.busy": "2024-09-10T16:08:30.803159Z",
     "iopub.status.idle": "2024-09-10T16:08:30.839571Z",
     "shell.execute_reply": "2024-09-10T16:08:30.838357Z",
     "shell.execute_reply.started": "2024-09-10T16:08:30.803530Z"
    }
   },
   "outputs": [],
   "source": [
    "# msquic does not send ACKs in Initial or Handshake packets\n",
    "msquic = pl.DataFrame(\n",
    "    {\n",
    "        \"packet_type\": [\"Initial\", \"Handshake\"],\n",
    "        \"server\": [\"msquic\", \"msquic\"],\n",
    "        \"ack_delay_ms\": [None, None],\n",
    "    }\n",
    ").join(data.select(\"measurement_ts\").unique(\"measurement_ts\"), how=\"cross\")"
   ]
  },
  {
   "cell_type": "code",
   "execution_count": 47,
   "id": "46f86a1a-5e51-42b9-b235-a66d05babe4c",
   "metadata": {
    "execution": {
     "iopub.execute_input": "2024-09-10T16:08:36.625836Z",
     "iopub.status.busy": "2024-09-10T16:08:36.625435Z",
     "iopub.status.idle": "2024-09-10T16:08:36.660633Z",
     "shell.execute_reply": "2024-09-10T16:08:36.659424Z",
     "shell.execute_reply.started": "2024-09-10T16:08:36.625809Z"
    }
   },
   "outputs": [],
   "source": [
    "data = pl.concat([data, msquic], how=\"diagonal\")"
   ]
  },
  {
   "cell_type": "code",
   "execution_count": 52,
   "id": "34c67a17-e22d-4645-9d7c-a382b69b6bc4",
   "metadata": {
    "execution": {
     "iopub.execute_input": "2024-09-10T16:11:05.699505Z",
     "iopub.status.busy": "2024-09-10T16:11:05.697499Z",
     "iopub.status.idle": "2024-09-10T16:11:05.743590Z",
     "shell.execute_reply": "2024-09-10T16:11:05.742637Z",
     "shell.execute_reply.started": "2024-09-10T16:11:05.699469Z"
    }
   },
   "outputs": [
    {
     "data": {
      "text/html": [
       "<div><style>\n",
       ".dataframe > thead > tr,\n",
       ".dataframe > tbody > tr {\n",
       "  text-align: right;\n",
       "  white-space: pre-wrap;\n",
       "}\n",
       "</style>\n",
       "<small>shape: (16, 7)</small><table border=\"1\" class=\"dataframe\"><thead><tr><th>server</th><th>{&quot;Initial&quot;,&quot;1&quot;}</th><th>{&quot;Initial&quot;,&quot;2&quot;}</th><th>{&quot;Initial&quot;,&quot;3&quot;}</th><th>{&quot;Handshake&quot;,&quot;1&quot;}</th><th>{&quot;Handshake&quot;,&quot;2&quot;}</th><th>{&quot;Handshake&quot;,&quot;3&quot;}</th></tr><tr><td>str</td><td>str</td><td>str</td><td>str</td><td>str</td><td>str</td><td>str</td></tr></thead><tbody><tr><td>&quot;s2n-quic&quot;</td><td>&quot;14.0&quot;</td><td>&quot;15.2&quot;</td><td>&quot;14.1&quot;</td><td>null</td><td>null</td><td>null</td></tr><tr><td>&quot;mvfst&quot;</td><td>&quot;0.8&quot;</td><td>null</td><td>&quot;0.7&quot;</td><td>&quot;0.2&quot;</td><td>null</td><td>&quot;0.1&quot;</td></tr><tr><td>&quot;ngtcp2&quot;</td><td>&quot;0.0&quot;</td><td>&quot;0.0&quot;</td><td>&quot;0.0&quot;</td><td>null</td><td>null</td><td>null</td></tr><tr><td>&quot;go-x-net&quot;</td><td>&quot;0.0&quot;</td><td>&quot;0.0&quot;</td><td>null</td><td>null</td><td>null</td><td>null</td></tr><tr><td>&quot;quic-go&quot;</td><td>&quot;0.0&quot;</td><td>&quot;0.0&quot;</td><td>&quot;0.0&quot;</td><td>null</td><td>null</td><td>null</td></tr><tr><td>&hellip;</td><td>&hellip;</td><td>&hellip;</td><td>&hellip;</td><td>&hellip;</td><td>&hellip;</td><td>&hellip;</td></tr><tr><td>&quot;nginx&quot;</td><td>&quot;0.0&quot;</td><td>&quot;0.0&quot;</td><td>&quot;0.0&quot;</td><td>null</td><td>null</td><td>null</td></tr><tr><td>&quot;lsquic&quot;</td><td>&quot;1.2&quot;</td><td>&quot;1.1&quot;</td><td>&quot;1.2&quot;</td><td>&quot;0.2&quot;</td><td>&quot;0.2&quot;</td><td>&quot;0.2&quot;</td></tr><tr><td>&quot;xquic&quot;</td><td>&quot;1.3&quot;</td><td>&quot;1.1&quot;</td><td>&quot;1.2&quot;</td><td>null</td><td>&quot;0.5&quot;</td><td>&quot;0.5&quot;</td></tr><tr><td>&quot;aioquic&quot;</td><td>&quot;3.3&quot;</td><td>&quot;3.4&quot;</td><td>&quot;3.3&quot;</td><td>null</td><td>null</td><td>null</td></tr><tr><td>&quot;picoquic&quot;</td><td>&quot;0.8&quot;</td><td>&quot;0.7&quot;</td><td>&quot;0.8&quot;</td><td>null</td><td>null</td><td>null</td></tr></tbody></table></div>"
      ],
      "text/plain": [
       "shape: (16, 7)\n",
       "┌──────────┬──────────────┬──────────────┬──────────────┬──────────────┬─────────────┬─────────────┐\n",
       "│ server   ┆ {\"Initial\",\" ┆ {\"Initial\",\" ┆ {\"Initial\",\" ┆ {\"Handshake\" ┆ {\"Handshake ┆ {\"Handshake │\n",
       "│ ---      ┆ 1\"}          ┆ 2\"}          ┆ 3\"}          ┆ ,\"1\"}        ┆ \",\"2\"}      ┆ \",\"3\"}      │\n",
       "│ str      ┆ ---          ┆ ---          ┆ ---          ┆ ---          ┆ ---         ┆ ---         │\n",
       "│          ┆ str          ┆ str          ┆ str          ┆ str          ┆ str         ┆ str         │\n",
       "╞══════════╪══════════════╪══════════════╪══════════════╪══════════════╪═════════════╪═════════════╡\n",
       "│ s2n-quic ┆ 14.0         ┆ 15.2         ┆ 14.1         ┆ null         ┆ null        ┆ null        │\n",
       "│ mvfst    ┆ 0.8          ┆ null         ┆ 0.7          ┆ 0.2          ┆ null        ┆ 0.1         │\n",
       "│ ngtcp2   ┆ 0.0          ┆ 0.0          ┆ 0.0          ┆ null         ┆ null        ┆ null        │\n",
       "│ go-x-net ┆ 0.0          ┆ 0.0          ┆ null         ┆ null         ┆ null        ┆ null        │\n",
       "│ quic-go  ┆ 0.0          ┆ 0.0          ┆ 0.0          ┆ null         ┆ null        ┆ null        │\n",
       "│ …        ┆ …            ┆ …            ┆ …            ┆ …            ┆ …           ┆ …           │\n",
       "│ nginx    ┆ 0.0          ┆ 0.0          ┆ 0.0          ┆ null         ┆ null        ┆ null        │\n",
       "│ lsquic   ┆ 1.2          ┆ 1.1          ┆ 1.2          ┆ 0.2          ┆ 0.2         ┆ 0.2         │\n",
       "│ xquic    ┆ 1.3          ┆ 1.1          ┆ 1.2          ┆ null         ┆ 0.5         ┆ 0.5         │\n",
       "│ aioquic  ┆ 3.3          ┆ 3.4          ┆ 3.3          ┆ null         ┆ null        ┆ null        │\n",
       "│ picoquic ┆ 0.8          ┆ 0.7          ┆ 0.8          ┆ null         ┆ null        ┆ null        │\n",
       "└──────────┴──────────────┴──────────────┴──────────────┴──────────────┴─────────────┴─────────────┘"
      ]
     },
     "execution_count": 52,
     "metadata": {},
     "output_type": "execute_result"
    }
   ],
   "source": [
    "data.group_by(\"server\", \"packet_type\", \"measurement_ts\").agg(\n",
    "    pl.col(\"ack_delay_ms\").round(1).str.join(\", \")\n",
    ").sort(\"packet_type\", \"measurement_ts\", descending=[True, False]).pivot(\n",
    "    on=[\"packet_type\", \"measurement_ts\"], index=\"server\"\n",
    ")"
   ]
  },
  {
   "cell_type": "markdown",
   "id": "17b65009-083f-4c1f-8132-39a18b926b53",
   "metadata": {},
   "source": [
    "### Acknowledgment delay of QUIC server implementations: Appendix D"
   ]
  },
  {
   "cell_type": "code",
   "execution_count": 54,
   "id": "c680770b-6ede-4c22-a13b-50dfcad1e936",
   "metadata": {
    "execution": {
     "iopub.execute_input": "2024-09-10T16:12:10.238530Z",
     "iopub.status.busy": "2024-09-10T16:12:10.238121Z",
     "iopub.status.idle": "2024-09-10T16:12:10.298913Z",
     "shell.execute_reply": "2024-09-10T16:12:10.297019Z",
     "shell.execute_reply.started": "2024-09-10T16:12:10.238505Z"
    }
   },
   "outputs": [
    {
     "name": "stdout",
     "output_type": "stream",
     "text": [
      "\\begin{table}\n",
      "\\caption{Acknowledgment Delay of the first acknowledgment received from server in the Initial and Handshake packet number space.}\n",
      "\\label{tab:server_ack_delays}\n",
      "\\begin{tabular}{lllllll}\n",
      "\\toprule\n",
      "Server & {\"Initial\",\"1\"} & {\"Initial\",\"2\"} & {\"Initial\",\"3\"} & {\"Handshake\",\"1\"} & {\"Handshake\",\"2\"} & {\"Handshake\",\"3\"} \\\\\n",
      "\\midrule\n",
      "aioquic & 3.3 & 3.4 & 3.3 & - & - & - \\\\\n",
      "go-x-net & 0.0 & 0.0 & - & - & - & - \\\\\n",
      "haproxy & 1.0 & 1.0 & - & 0.0 & 0.0 & - \\\\\n",
      "kwik & 0.0 & 0.0 & 0.0 & - & - & - \\\\\n",
      "lsquic & 1.2 & 1.1 & 1.2 & 0.2 & 0.2 & 0.2 \\\\\n",
      "msquic & - & - & - & - & - & - \\\\\n",
      "mvfst & 0.8 & - & 0.7 & 0.2 & - & 0.1 \\\\\n",
      "neqo & 0.0 & 0.0 & - & 0.0 & 0.0 & - \\\\\n",
      "nginx & 0.0 & 0.0 & 0.0 & - & - & - \\\\\n",
      "ngtcp2 & 0.0 & 0.0 & 0.0 & - & - & - \\\\\n",
      "picoquic & 0.8 & 0.7 & 0.8 & - & - & - \\\\\n",
      "quic-go & 0.0 & 0.0 & 0.0 & - & - & - \\\\\n",
      "quiche & 1.4 & 1.4 & 1.5 & - & - & - \\\\\n",
      "quinn & 0.4 & - & 0.4 & - & - & - \\\\\n",
      "s2n-quic & 14.0 & 15.2 & 14.1 & - & - & - \\\\\n",
      "xquic & 1.3 & 1.1 & 1.2 & - & 0.5 & 0.5 \\\\\n",
      "\\bottomrule\n",
      "\\end{tabular}\n",
      "\\end{table}\n",
      "\n"
     ]
    }
   ],
   "source": [
    "label = \"tab:server_ack_delays\"\n",
    "caption = \"Acknowledgment Delay of the first acknowledgment received from server in the Initial and Handshake packet number space.\"\n",
    "\n",
    "\n",
    "print(\n",
    "    data.group_by(\"server\", \"packet_type\", \"measurement_ts\")\n",
    "    .agg(pl.col(\"ack_delay_ms\").round(1).str.join(\", \"))\n",
    "    .sort(\"packet_type\", \"measurement_ts\", descending=[True, False])\n",
    "    .pivot(on=[\"packet_type\", \"measurement_ts\"], index=\"server\")\n",
    "    .with_columns(pl.col(\"*\").replace(\"\", pl.lit(None)))\n",
    "    .sort(\"server\")\n",
    "    .rename({\"server\": \"Server\"})\n",
    "    .to_pandas()\n",
    "    .fillna(\"-\")\n",
    "    .to_latex(label=label, caption=caption, index=False)\n",
    ")"
   ]
  },
  {
   "cell_type": "markdown",
   "id": "bd4f3920-4fc7-448f-858a-f26794e555a5",
   "metadata": {},
   "source": [
    "### ACK delay exponent of server implementations"
   ]
  },
  {
   "cell_type": "code",
   "execution_count": null,
   "id": "98f7ef83-7480-4666-856b-e10d5dac004f",
   "metadata": {
    "execution": {
     "iopub.status.busy": "2024-09-10T15:53:55.376869Z",
     "iopub.status.idle": "2024-09-10T15:53:55.377081Z",
     "shell.execute_reply": "2024-09-10T15:53:55.376992Z",
     "shell.execute_reply.started": "2024-09-10T15:53:55.376980Z"
    }
   },
   "outputs": [],
   "source": [
    "cv.load_data(\"all-interop-servers\").filter(\n",
    "    pl.col(\"tls.quic.parameter.ack_delay_exponent\").is_not_null(),\n",
    ").group_by(\"server\").agg(\n",
    "    pl.col(\"tls.quic.parameter.ack_delay_exponent\").unique(),\n",
    ").collect()"
   ]
  }
 ],
 "metadata": {
  "kernelspec": {
   "display_name": "Python 3 (ipykernel)",
   "language": "python",
   "name": "python3"
  },
  "language_info": {
   "codemirror_mode": {
    "name": "ipython",
    "version": 3
   },
   "file_extension": ".py",
   "mimetype": "text/x-python",
   "name": "python",
   "nbconvert_exporter": "python",
   "pygments_lexer": "ipython3",
   "version": "3.12.4"
  }
 },
 "nbformat": 4,
 "nbformat_minor": 5
}
